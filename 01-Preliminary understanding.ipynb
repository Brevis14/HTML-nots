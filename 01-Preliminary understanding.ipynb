{
 "cells": [
  {
   "cell_type": "markdown",
   "id": "182b198e",
   "metadata": {},
   "source": [
    "## HTML (Hyper Text Markup Language) \n",
    "[![2025-08-26-145310.png](https://i.postimg.cc/nrHXMKnJ/2025-08-26-145310.png)](https://postimg.cc/qh5J53tb)"
   ]
  },
  {
   "cell_type": "markdown",
   "id": "bbb482cd",
   "metadata": {},
   "source": [
    "### Browser Engine\n",
    "It refers to the core component of a browser, which is responsible for key functions such as parsing web page codes (e.g., HTML, CSS), rendering page content, and handling JavaScript execution.\n",
    "\n",
    "### Web Standards\n",
    "#### Composition of Web Standards:\n",
    "It mainly includes three aspects: Structure (most important) , Presentation, and Behavior.\n",
    "\n",
    "[![2025-08-26-150751.png](https://i.postimg.cc/vmPy5pFD/2025-08-26-150751.png)](https://postimg.cc/sBZbrH2R)"
   ]
  }
 ],
 "metadata": {
  "kernelspec": {
   "display_name": "Python 3",
   "language": "python",
   "name": "python3"
  },
  "language_info": {
   "name": "python",
   "version": "3.13.6"
  }
 },
 "nbformat": 4,
 "nbformat_minor": 5
}
