{
 "cells": [
  {
   "cell_type": "markdown",
   "id": "f97df194",
   "metadata": {},
   "source": [
    "#### `<!DOCTYPE>`\n",
    "[![2025-08-26-163330.png](https://i.postimg.cc/C1DyZGX5/2025-08-26-163330.png)](https://postimg.cc/KkZpwMZh)"
   ]
  },
  {
   "cell_type": "markdown",
   "id": "3563d660",
   "metadata": {},
   "source": [
    "#### `lang`"
   ]
  },
  {
   "cell_type": "code",
   "execution_count": null,
   "id": "c3aef9b3",
   "metadata": {
    "vscode": {
     "languageId": "html"
    }
   },
   "outputs": [],
   "source": [
    "<html lang=\"en\">"
   ]
  },
  {
   "cell_type": "markdown",
   "id": "a5cbb4d5",
   "metadata": {},
   "source": [
    "[![2025-08-26-163630.png](https://i.postimg.cc/N0jRbYcv/2025-08-26-163630.png)](https://postimg.cc/75jCYFhK)"
   ]
  },
  {
   "cell_type": "markdown",
   "id": "a21c696f",
   "metadata": {},
   "source": [
    "#### `charset`"
   ]
  },
  {
   "cell_type": "code",
   "execution_count": null,
   "id": "c4c7ad85",
   "metadata": {
    "vscode": {
     "languageId": "html"
    }
   },
   "outputs": [],
   "source": [
    "<meta charset=\"UTF-8\">"
   ]
  },
  {
   "cell_type": "markdown",
   "id": "6b1e4d55",
   "metadata": {},
   "source": [
    "[![2025-08-26-164112.png](https://i.postimg.cc/Bv9d1Y9F/2025-08-26-164112.png)](https://postimg.cc/G4KMWjp3)\n",
    "\n",
    "Otherwise:\n",
    "\n",
    "[![2025-08-26-164245.png](https://i.postimg.cc/jdTcNpLt/2025-08-26-164245.png)](https://postimg.cc/ThknvHV4)"
   ]
  }
 ],
 "metadata": {
  "language_info": {
   "name": "python"
  }
 },
 "nbformat": 4,
 "nbformat_minor": 5
}
