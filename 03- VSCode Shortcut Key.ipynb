{
 "cells": [
  {
   "cell_type": "markdown",
   "id": "4f06f359",
   "metadata": {},
   "source": [
    "### 1️⃣ Quickly copy a line upward or downward\n",
    "`shift` + `alt` + `pg up` or `pg dn`\n",
    "\n",
    "### 2️⃣ Select multiple identical words\n",
    "`ctrl` + `D`\n",
    "\n",
    "It can be used to modify multiple identical words simultaneously in one go.\n",
    "\n",
    "### 3️⃣ Add multiple mouse cursors\n",
    "`ctrl` + `alt` + `pg up` or `pg dn`\n",
    "\n",
    "It can be used to perform operations such as adding or modifying content simultaneously at different cursor positions.\n",
    "\n",
    "### 4️⃣ Replace a specific word globally\n",
    "`ctrl` + `h`\n",
    "\n",
    "### 5️⃣ Quickly jump to the specified line number\n",
    "`ctrl` + `g`\n",
    "\n",
    "### 6️⃣ Select a block of any specification\n",
    "Press and hold `shift` + `alt`"
   ]
  }
 ],
 "metadata": {
  "language_info": {
   "name": "python"
  }
 },
 "nbformat": 4,
 "nbformat_minor": 5
}
