{
 "cells": [
  {
   "cell_type": "markdown",
   "id": "29b814f1",
   "metadata": {},
   "source": [
    "### Grammatical Norms\n",
    "[![2025-08-26-151937.png](https://i.postimg.cc/mhfYgXmg/2025-08-26-151937.png)](https://postimg.cc/H8zcS2Gq)"
   ]
  },
  {
   "cell_type": "markdown",
   "id": "a1937023",
   "metadata": {},
   "source": [
    "### Relationships Between Tags\n",
    "It can be divided into two categories：\n",
    "\n",
    "[![2025-08-26-152303.png](https://i.postimg.cc/d3rYC3jj/2025-08-26-152303.png)](https://postimg.cc/YLrZKpVv)"
   ]
  },
  {
   "cell_type": "markdown",
   "id": "ff2217c2",
   "metadata": {},
   "source": [
    "### Basic Structural Tags (Skeletal Tags)\n",
    "[![2025-08-26-152610.png](https://i.postimg.cc/1RqnBKWJ/2025-08-26-152610.png)](https://postimg.cc/7bqZYSr2)\n",
    "\n",
    "#### `<head>`\n",
    "The header of the web page (the area enclosed in the red box):\n",
    "\n",
    "[![2025-08-26-152753.png](https://i.postimg.cc/HLTkCqCk/2025-08-26-152753.png)](https://postimg.cc/nXwJ4wzy)\n",
    "\n",
    "Please note that the `<title>` must be set within the `<head>`."
   ]
  },
  {
   "cell_type": "markdown",
   "id": "62a3dc0d",
   "metadata": {},
   "source": [
    "#### `<title>`\n",
    "\n",
    "[![2025-08-26-153755.png](https://i.postimg.cc/9XsxNVGZ/2025-08-26-153755.png)](https://postimg.cc/V5BBdxZk)"
   ]
  }
 ],
 "metadata": {
  "language_info": {
   "name": "python"
  }
 },
 "nbformat": 4,
 "nbformat_minor": 5
}
