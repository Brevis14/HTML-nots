{
 "cells": [
  {
   "cell_type": "markdown",
   "id": "fc264124",
   "metadata": {},
   "source": [
    "### 1️⃣ Title Tag: `<h1>`-`<h6>`\n",
    "[![2025-08-26-164852.png](https://i.postimg.cc/vm5LcXbc/2025-08-26-164852.png)](https://postimg.cc/SXNzP6Xh)\n",
    "\n",
    "### 2️⃣ Paragraph Tag: `<p>`\n",
    "\n",
    "\n",
    "### 3️⃣ Line Break Tag: `<br />`\n",
    "[![2025-08-26-165628.png](https://i.postimg.cc/RZt4JJ8W/2025-08-26-165628.png)](https://postimg.cc/5XfZZyfJ)\n",
    "\n",
    "### 4️⃣ Text Formatting Tags\n",
    "[![2025-08-26-171415.png](https://i.postimg.cc/HW9by3Ry/2025-08-26-171415.png)](https://postimg.cc/LhhqdkH9)\n",
    "\n",
    "### 5️⃣ `<div>` and `<span>`\n",
    "[![2025-08-26-172030.png](https://i.postimg.cc/G2W80T4G/2025-08-26-172030.png)](https://postimg.cc/qhGMyRXv)\n",
    "\n",
    "### 6️⃣ Image Tag: `<img>`\n",
    "[![2025-08-26-172443.png](https://i.postimg.cc/7PN91qdX/2025-08-26-172443.png)](https://postimg.cc/8sjLNg1r)\n",
    "\n",
    "Other attributes of the image tag：\n",
    "\n",
    "[![2025-08-26-172511.png](https://i.postimg.cc/wMs6pwCj/2025-08-26-172511.png)](https://postimg.cc/m1Bx3yZv)\n",
    "\n",
    "Tips:\n",
    "\n",
    "[![2025-08-26-173203.png](https://i.postimg.cc/Pfwqwq7v/2025-08-26-173203.png)](https://postimg.cc/w39HK9g9)\n",
    "\n",
    "### 7️⃣ Hyperlink Tag: `<a>`\n",
    "anchor: \"锚\"\n",
    "#### Syntax Format:\n",
    "[![2025-08-26-174901.png](https://i.postimg.cc/GtzrC9Kq/2025-08-26-174901.png)](https://postimg.cc/647FVWDv)\n",
    "\n",
    "The functions of the two attributes:\n",
    "\n",
    "[![2025-08-26-174959.png](https://i.postimg.cc/0yhvxTGR/2025-08-26-174959.png)](https://postimg.cc/hX86133p)\n",
    "\n",
    "Classification of Hyperlinks:\n",
    "\n",
    "[![2025-08-26-181548.png](https://i.postimg.cc/XqRn7tFz/2025-08-26-181548.png)](https://postimg.cc/zHFsxtxC)\n",
    "\n",
    "### 8️⃣ Comment Tag: `<!--`-`-->`\n",
    "[![2025-08-26-181907.png](https://i.postimg.cc/4NXgwvPt/2025-08-26-181907.png)](https://postimg.cc/Sj13xMwN)\n",
    "\n",
    "### 9️⃣ Special Characters\n",
    "[![2025-08-26-182023.png](https://i.postimg.cc/MTZ7dFnN/2025-08-26-182023.png)](https://postimg.cc/7CcJLXMn)"
   ]
  }
 ],
 "metadata": {
  "language_info": {
   "name": "python"
  }
 },
 "nbformat": 4,
 "nbformat_minor": 5
}
