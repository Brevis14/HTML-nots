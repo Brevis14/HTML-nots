{
 "cells": [
  {
   "cell_type": "markdown",
   "id": "1c181101",
   "metadata": {},
   "source": [
    "### Relative Path\n",
    "[![2025-08-26-173939.png](https://i.postimg.cc/nzRnDX8g/2025-08-26-173939.png)](https://postimg.cc/WFZRRb1w)\n",
    "\n",
    "plz note that the path separators used by absolute paths and relative paths are opposite."
   ]
  }
 ],
 "metadata": {
  "language_info": {
   "name": "python"
  }
 },
 "nbformat": 4,
 "nbformat_minor": 5
}
